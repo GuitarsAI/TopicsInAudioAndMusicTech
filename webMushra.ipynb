{
  "nbformat": 4,
  "nbformat_minor": 0,
  "metadata": {
    "colab": {
      "provenance": []
    },
    "kernelspec": {
      "name": "python3",
      "display_name": "Python 3"
    },
    "language_info": {
      "name": "python"
    }
  },
  "cells": [
    {
      "cell_type": "markdown",
      "source": [
        "# Designing MUSRHA Tests using webMUSHRA and PyMUSHRA"
      ],
      "metadata": {
        "id": "nw-TcZNMdsRK"
      }
    },
    {
      "cell_type": "code",
      "source": [
        "# @title\n",
        "%%html\n",
        "<iframe width=\"900\" height=\"630\" src=\"https://www.youtube.com/embed/ntZqaiAQWr0?si=u8yTyq6mFet-on3A\" title=\"YouTube video player\" frameborder=\"0\" allow=\"accelerometer; autoplay; clipboard-write; encrypted-media; gyroscope; picture-in-picture; web-share\" referrerpolicy=\"strict-origin-when-cross-origin\" allowfullscreen></iframe>"
      ],
      "metadata": {
        "colab": {
          "base_uri": "https://localhost:8080/",
          "height": 651
        },
        "cellView": "form",
        "id": "8LamfjjzZDDn",
        "outputId": "2dc7dddf-a69a-4d16-f0fb-84d467c1dc5e"
      },
      "execution_count": null,
      "outputs": [
        {
          "output_type": "display_data",
          "data": {
            "text/plain": [
              "<IPython.core.display.HTML object>"
            ],
            "text/html": [
              "<iframe width=\"900\" height=\"630\" src=\"https://www.youtube.com/embed/ntZqaiAQWr0?si=u8yTyq6mFet-on3A\" title=\"YouTube video player\" frameborder=\"0\" allow=\"accelerometer; autoplay; clipboard-write; encrypted-media; gyroscope; picture-in-picture; web-share\" referrerpolicy=\"strict-origin-when-cross-origin\" allowfullscreen></iframe>\n"
            ]
          },
          "metadata": {}
        }
      ]
    },
    {
      "cell_type": "markdown",
      "source": [
        "## Installing webMUSHRA anb PyMUSHRA"
      ],
      "metadata": {
        "id": "9Os0T2Z-BMlY"
      }
    },
    {
      "cell_type": "code",
      "source": [
        "!mkdir db\n",
        "!git clone https://github.com/audiolabs/webMUSHRA.git webmushra\n",
        "!git clone https://github.com/nils-werner/pymushra.git pymushra\n",
        "\n",
        "!pip install -e pymushra"
      ],
      "metadata": {
        "colab": {
          "base_uri": "https://localhost:8080/"
        },
        "id": "Y8RPdqbTUFF8",
        "outputId": "f0a9c734-329d-405d-af7c-5a98a4207428"
      },
      "execution_count": null,
      "outputs": [
        {
          "output_type": "stream",
          "name": "stdout",
          "text": [
            "Cloning into 'webmushra'...\n",
            "remote: Enumerating objects: 963, done.\u001b[K\n",
            "remote: Counting objects: 100% (9/9), done.\u001b[K\n",
            "remote: Compressing objects: 100% (8/8), done.\u001b[K\n",
            "remote: Total 963 (delta 1), reused 5 (delta 0), pack-reused 954\u001b[K\n",
            "Receiving objects: 100% (963/963), 7.11 MiB | 10.53 MiB/s, done.\n",
            "Resolving deltas: 100% (461/461), done.\n",
            "Cloning into 'pymushra'...\n",
            "remote: Enumerating objects: 103, done.\u001b[K\n",
            "remote: Counting objects: 100% (28/28), done.\u001b[K\n",
            "remote: Compressing objects: 100% (21/21), done.\u001b[K\n",
            "remote: Total 103 (delta 13), reused 16 (delta 7), pack-reused 75\u001b[K\n",
            "Receiving objects: 100% (103/103), 26.94 KiB | 3.37 MiB/s, done.\n",
            "Resolving deltas: 100% (47/47), done.\n",
            "Obtaining file:///content/pymushra\n",
            "  Preparing metadata (setup.py) ... \u001b[?25l\u001b[?25hdone\n",
            "Requirement already satisfied: numpy in /usr/local/lib/python3.10/dist-packages (from pymushra==0.3) (1.25.2)\n",
            "Requirement already satisfied: matplotlib>=2.0.0 in /usr/local/lib/python3.10/dist-packages (from pymushra==0.3) (3.7.1)\n",
            "Requirement already satisfied: scipy in /usr/local/lib/python3.10/dist-packages (from pymushra==0.3) (1.11.4)\n",
            "Requirement already satisfied: ipython in /usr/local/lib/python3.10/dist-packages (from pymushra==0.3) (7.34.0)\n",
            "Requirement already satisfied: flask>=2.2.5 in /usr/local/lib/python3.10/dist-packages (from pymushra==0.3) (2.2.5)\n",
            "Requirement already satisfied: pandas>=0.24.0 in /usr/local/lib/python3.10/dist-packages (from pymushra==0.3) (2.0.3)\n",
            "Requirement already satisfied: seaborn in /usr/local/lib/python3.10/dist-packages (from pymushra==0.3) (0.13.1)\n",
            "Requirement already satisfied: statsmodels in /usr/local/lib/python3.10/dist-packages (from pymushra==0.3) (0.14.2)\n",
            "Requirement already satisfied: patsy in /usr/local/lib/python3.10/dist-packages (from pymushra==0.3) (0.5.6)\n",
            "Collecting tinydb>=3.0.0 (from pymushra==0.3)\n",
            "  Downloading tinydb-4.8.0-py3-none-any.whl.metadata (6.2 kB)\n",
            "Collecting tinyrecord (from pymushra==0.3)\n",
            "  Downloading tinyrecord-0.2.0.tar.gz (5.6 kB)\n",
            "  Preparing metadata (setup.py) ... \u001b[?25l\u001b[?25hdone\n",
            "Requirement already satisfied: pytest in /usr/local/lib/python3.10/dist-packages (from pymushra==0.3) (7.4.4)\n",
            "Requirement already satisfied: click in /usr/local/lib/python3.10/dist-packages (from pymushra==0.3) (8.1.7)\n",
            "Requirement already satisfied: Werkzeug>=2.2.2 in /usr/local/lib/python3.10/dist-packages (from flask>=2.2.5->pymushra==0.3) (3.0.3)\n",
            "Requirement already satisfied: Jinja2>=3.0 in /usr/local/lib/python3.10/dist-packages (from flask>=2.2.5->pymushra==0.3) (3.1.4)\n",
            "Requirement already satisfied: itsdangerous>=2.0 in /usr/local/lib/python3.10/dist-packages (from flask>=2.2.5->pymushra==0.3) (2.2.0)\n",
            "Requirement already satisfied: contourpy>=1.0.1 in /usr/local/lib/python3.10/dist-packages (from matplotlib>=2.0.0->pymushra==0.3) (1.2.1)\n",
            "Requirement already satisfied: cycler>=0.10 in /usr/local/lib/python3.10/dist-packages (from matplotlib>=2.0.0->pymushra==0.3) (0.12.1)\n",
            "Requirement already satisfied: fonttools>=4.22.0 in /usr/local/lib/python3.10/dist-packages (from matplotlib>=2.0.0->pymushra==0.3) (4.53.1)\n",
            "Requirement already satisfied: kiwisolver>=1.0.1 in /usr/local/lib/python3.10/dist-packages (from matplotlib>=2.0.0->pymushra==0.3) (1.4.5)\n",
            "Requirement already satisfied: packaging>=20.0 in /usr/local/lib/python3.10/dist-packages (from matplotlib>=2.0.0->pymushra==0.3) (24.1)\n",
            "Requirement already satisfied: pillow>=6.2.0 in /usr/local/lib/python3.10/dist-packages (from matplotlib>=2.0.0->pymushra==0.3) (9.4.0)\n",
            "Requirement already satisfied: pyparsing>=2.3.1 in /usr/local/lib/python3.10/dist-packages (from matplotlib>=2.0.0->pymushra==0.3) (3.1.2)\n",
            "Requirement already satisfied: python-dateutil>=2.7 in /usr/local/lib/python3.10/dist-packages (from matplotlib>=2.0.0->pymushra==0.3) (2.8.2)\n",
            "Requirement already satisfied: pytz>=2020.1 in /usr/local/lib/python3.10/dist-packages (from pandas>=0.24.0->pymushra==0.3) (2023.4)\n",
            "Requirement already satisfied: tzdata>=2022.1 in /usr/local/lib/python3.10/dist-packages (from pandas>=0.24.0->pymushra==0.3) (2024.1)\n",
            "Requirement already satisfied: setuptools>=18.5 in /usr/local/lib/python3.10/dist-packages (from ipython->pymushra==0.3) (71.0.4)\n",
            "Collecting jedi>=0.16 (from ipython->pymushra==0.3)\n",
            "  Downloading jedi-0.19.1-py2.py3-none-any.whl.metadata (22 kB)\n",
            "Requirement already satisfied: decorator in /usr/local/lib/python3.10/dist-packages (from ipython->pymushra==0.3) (4.4.2)\n",
            "Requirement already satisfied: pickleshare in /usr/local/lib/python3.10/dist-packages (from ipython->pymushra==0.3) (0.7.5)\n",
            "Requirement already satisfied: traitlets>=4.2 in /usr/local/lib/python3.10/dist-packages (from ipython->pymushra==0.3) (5.7.1)\n",
            "Requirement already satisfied: prompt-toolkit!=3.0.0,!=3.0.1,<3.1.0,>=2.0.0 in /usr/local/lib/python3.10/dist-packages (from ipython->pymushra==0.3) (3.0.47)\n",
            "Requirement already satisfied: pygments in /usr/local/lib/python3.10/dist-packages (from ipython->pymushra==0.3) (2.16.1)\n",
            "Requirement already satisfied: backcall in /usr/local/lib/python3.10/dist-packages (from ipython->pymushra==0.3) (0.2.0)\n",
            "Requirement already satisfied: matplotlib-inline in /usr/local/lib/python3.10/dist-packages (from ipython->pymushra==0.3) (0.1.7)\n",
            "Requirement already satisfied: pexpect>4.3 in /usr/local/lib/python3.10/dist-packages (from ipython->pymushra==0.3) (4.9.0)\n",
            "Requirement already satisfied: six in /usr/local/lib/python3.10/dist-packages (from patsy->pymushra==0.3) (1.16.0)\n",
            "Requirement already satisfied: iniconfig in /usr/local/lib/python3.10/dist-packages (from pytest->pymushra==0.3) (2.0.0)\n",
            "Requirement already satisfied: pluggy<2.0,>=0.12 in /usr/local/lib/python3.10/dist-packages (from pytest->pymushra==0.3) (1.5.0)\n",
            "Requirement already satisfied: exceptiongroup>=1.0.0rc8 in /usr/local/lib/python3.10/dist-packages (from pytest->pymushra==0.3) (1.2.2)\n",
            "Requirement already satisfied: tomli>=1.0.0 in /usr/local/lib/python3.10/dist-packages (from pytest->pymushra==0.3) (2.0.1)\n",
            "Requirement already satisfied: parso<0.9.0,>=0.8.3 in /usr/local/lib/python3.10/dist-packages (from jedi>=0.16->ipython->pymushra==0.3) (0.8.4)\n",
            "Requirement already satisfied: MarkupSafe>=2.0 in /usr/local/lib/python3.10/dist-packages (from Jinja2>=3.0->flask>=2.2.5->pymushra==0.3) (2.1.5)\n",
            "Requirement already satisfied: ptyprocess>=0.5 in /usr/local/lib/python3.10/dist-packages (from pexpect>4.3->ipython->pymushra==0.3) (0.7.0)\n",
            "Requirement already satisfied: wcwidth in /usr/local/lib/python3.10/dist-packages (from prompt-toolkit!=3.0.0,!=3.0.1,<3.1.0,>=2.0.0->ipython->pymushra==0.3) (0.2.13)\n",
            "Downloading tinydb-4.8.0-py3-none-any.whl (24 kB)\n",
            "Downloading jedi-0.19.1-py2.py3-none-any.whl (1.6 MB)\n",
            "\u001b[2K   \u001b[90m━━━━━━━━━━━━━━━━━━━━━━━━━━━━━━━━━━━━━━━━\u001b[0m \u001b[32m1.6/1.6 MB\u001b[0m \u001b[31m25.9 MB/s\u001b[0m eta \u001b[36m0:00:00\u001b[0m\n",
            "\u001b[?25hBuilding wheels for collected packages: tinyrecord\n",
            "  Building wheel for tinyrecord (setup.py) ... \u001b[?25l\u001b[?25hdone\n",
            "  Created wheel for tinyrecord: filename=tinyrecord-0.2.0-py3-none-any.whl size=5903 sha256=b4b67fd68ffbc2513e4460e99aae5975d5d1b86f8a6f78e75b87d0042290163c\n",
            "  Stored in directory: /root/.cache/pip/wheels/c9/49/88/a6d14674c5f54b1fa57631254411deb0cfc3804130c673a8b6\n",
            "Successfully built tinyrecord\n",
            "Installing collected packages: tinyrecord, tinydb, jedi, pymushra\n",
            "  Running setup.py develop for pymushra\n",
            "Successfully installed jedi-0.19.1 pymushra-0.3 tinydb-4.8.0 tinyrecord-0.2.0\n"
          ]
        }
      ]
    },
    {
      "cell_type": "markdown",
      "source": [
        "Schoeffler, M. et al., (2018). webMUSHRA — A Comprehensive Framework for Web-based Listening Tests. Journal of Open Research Software. 6(1), p.8."
      ],
      "metadata": {
        "id": "eGJ1mAjnQm-R"
      }
    },
    {
      "cell_type": "markdown",
      "source": [
        "## Installing and Configuring HTTP Tunneling using Ngrok"
      ],
      "metadata": {
        "id": "gPCnzyHtBe9B"
      }
    },
    {
      "cell_type": "code",
      "source": [
        "# @title\n",
        "%%html\n",
        "<iframe width=\"560\" height=\"315\" src=\"https://www.youtube.com/embed/KPHjjHJyUno?si=8ABjFm-EzYQctIM3\" title=\"YouTube video player\" frameborder=\"0\" allow=\"accelerometer; autoplay; clipboard-write; encrypted-media; gyroscope; picture-in-picture; web-share\" referrerpolicy=\"strict-origin-when-cross-origin\" allowfullscreen></iframe>"
      ],
      "metadata": {
        "colab": {
          "base_uri": "https://localhost:8080/",
          "height": 336
        },
        "cellView": "form",
        "id": "uC9qTM6PFRa0",
        "outputId": "1170915b-e255-4811-85c5-d975e77f5e36"
      },
      "execution_count": null,
      "outputs": [
        {
          "output_type": "display_data",
          "data": {
            "text/plain": [
              "<IPython.core.display.HTML object>"
            ],
            "text/html": [
              "<iframe width=\"560\" height=\"315\" src=\"https://www.youtube.com/embed/KPHjjHJyUno?si=8ABjFm-EzYQctIM3\" title=\"YouTube video player\" frameborder=\"0\" allow=\"accelerometer; autoplay; clipboard-write; encrypted-media; gyroscope; picture-in-picture; web-share\" referrerpolicy=\"strict-origin-when-cross-origin\" allowfullscreen></iframe>\n"
            ]
          },
          "metadata": {}
        }
      ]
    },
    {
      "cell_type": "code",
      "source": [
        "# Install PyNgrok\n",
        "!pip install pyngrok"
      ],
      "metadata": {
        "colab": {
          "base_uri": "https://localhost:8080/"
        },
        "id": "PO0bezQNSymN",
        "outputId": "e70f7c2e-6434-4b15-fde4-06631e5418c5"
      },
      "execution_count": null,
      "outputs": [
        {
          "output_type": "stream",
          "name": "stdout",
          "text": [
            "Requirement already satisfied: pyngrok in /usr/local/lib/python3.10/dist-packages (7.2.0)\n",
            "Requirement already satisfied: PyYAML>=5.1 in /usr/local/lib/python3.10/dist-packages (from pyngrok) (6.0.1)\n"
          ]
        }
      ]
    },
    {
      "cell_type": "code",
      "source": [
        "# Configure Ngrok and Setup Tunneling\n",
        "from pyngrok import ngrok\n",
        "ngrok.set_auth_token(\"Put your Auth Token here\")\n",
        "public_url = ngrok.connect(5000)\n",
        "public_url.public_url += \"/admin\""
      ],
      "metadata": {
        "id": "epJPAFpmS9e5"
      },
      "execution_count": null,
      "outputs": []
    },
    {
      "cell_type": "code",
      "source": [
        "# Print Public URL and start webMUSHRA application\n",
        "print(public_url)\n",
        "!pymushra server"
      ],
      "metadata": {
        "colab": {
          "base_uri": "https://localhost:8080/"
        },
        "id": "lBGNgjX3UKFw",
        "outputId": "af8e540d-a225-43c2-c280-fb7e8daecd3d"
      },
      "execution_count": null,
      "outputs": [
        {
          "output_type": "stream",
          "name": "stdout",
          "text": [
            "NgrokTunnel: \"https://5fe0-34-125-99-102.ngrok-free.app/admin\" -> \"http://localhost:5000\"\n",
            " * Serving Flask app 'pymushra.service'\n",
            " * Debug mode: on\n",
            "\u001b[31m\u001b[1mWARNING: This is a development server. Do not use it in a production deployment. Use a production WSGI server instead.\u001b[0m\n",
            " * Running on all addresses (0.0.0.0)\n",
            " * Running on http://127.0.0.1:5000\n",
            " * Running on http://172.28.0.12:5000\n",
            "\u001b[33mPress CTRL+C to quit\u001b[0m\n",
            " * Restarting with stat\n",
            " * Debugger is active!\n",
            " * Debugger PIN: 955-957-688\n",
            "127.0.0.1 - - [25/Jul/2024 10:23:09] \"\u001b[32mGET /admin HTTP/1.1\u001b[0m\" 308 -\n",
            "[   responses          ...                         wm                           \n",
            "    stimulus comment  ...                     config                       date\n",
            "0  reference    None  ...  configs/mushra_nowav.yaml 2024-07-25 08:52:16.999505\n",
            "1         C2    None  ...  configs/mushra_nowav.yaml 2024-07-25 08:52:16.999505\n",
            "2         C3    None  ...  configs/mushra_nowav.yaml 2024-07-25 08:52:16.999505\n",
            "3         C1    None  ...  configs/mushra_nowav.yaml 2024-07-25 08:52:16.999505\n",
            "\n",
            "[4 rows x 10 columns],     responses          ...                          wm                           \n",
            "     stimulus comment  ...                      config                       date\n",
            "0          C4    None  ...  configs/mushra_noloop.yaml 2024-07-25 10:02:45.239587\n",
            "1         C10    None  ...  configs/mushra_noloop.yaml 2024-07-25 10:02:45.239587\n",
            "2          C9    None  ...  configs/mushra_noloop.yaml 2024-07-25 10:02:45.239587\n",
            "3          C7    None  ...  configs/mushra_noloop.yaml 2024-07-25 10:02:45.239587\n",
            "4          C2    None  ...  configs/mushra_noloop.yaml 2024-07-25 10:02:45.239587\n",
            "5          C5    None  ...  configs/mushra_noloop.yaml 2024-07-25 10:02:45.239587\n",
            "6          C1    None  ...  configs/mushra_noloop.yaml 2024-07-25 10:02:45.239587\n",
            "7          C3    None  ...  configs/mushra_noloop.yaml 2024-07-25 10:02:45.239587\n",
            "8   reference    None  ...  configs/mushra_noloop.yaml 2024-07-25 10:02:45.239587\n",
            "9          C8    None  ...  configs/mushra_noloop.yaml 2024-07-25 10:02:45.239587\n",
            "10         C6    None  ...  configs/mushra_noloop.yaml 2024-07-25 10:02:45.239587\n",
            "11        C11    None  ...  configs/mushra_noloop.yaml 2024-07-25 10:02:45.239587\n",
            "\n",
            "[12 rows x 10 columns]]\n",
            "127.0.0.1 - - [25/Jul/2024 10:23:09] \"GET /admin/ HTTP/1.1\" 200 -\n",
            "127.0.0.1 - - [25/Jul/2024 10:23:10] \"GET /favicon.ico HTTP/1.1\" 200 -\n",
            "127.0.0.1 - - [25/Jul/2024 10:23:21] \"GET /?config=myNewTest.yaml HTTP/1.1\" 200 -\n",
            "127.0.0.1 - - [25/Jul/2024 10:23:21] \"GET /lib/external/jquery.mobile/plugins/jQuery-Mobile-Progress-Bar-with-Percentage/src/css/tolito-1.0.1.css HTTP/1.1\" 200 -\n",
            "127.0.0.1 - - [25/Jul/2024 10:23:21] \"GET /lib/external/jquery.mobile/jquery.mobile-1.4.4.css HTTP/1.1\" 200 -\n",
            "127.0.0.1 - - [25/Jul/2024 10:23:21] \"GET /design/jquery.mobile-theme/themes/default/alabs_0_3.css HTTP/1.1\" 200 -\n",
            "127.0.0.1 - - [25/Jul/2024 10:23:22] \"GET /design/jquery.mobile-theme/themes/default/jquery.mobile.icons.min.css HTTP/1.1\" 200 -\n",
            "127.0.0.1 - - [25/Jul/2024 10:23:22] \"GET /lib/external/wmSlider/slider.min.css HTTP/1.1\" 200 -\n",
            "127.0.0.1 - - [25/Jul/2024 10:23:22] \"GET /lib/external/wmSlider/slider.pips.css HTTP/1.1\" 200 -\n",
            "127.0.0.1 - - [25/Jul/2024 10:23:22] \"GET /lib/external/mousetrap/mousetrap.min.js HTTP/1.1\" 200 -\n",
            "127.0.0.1 - - [25/Jul/2024 10:23:22] \"GET /lib/webmushra/datamodel/Participant.js HTTP/1.1\" 200 -\n",
            "127.0.0.1 - - [25/Jul/2024 10:23:22] \"GET /lib/external/jquery.mobile/patches/vertical-slider.js HTTP/1.1\" 200 -\n",
            "127.0.0.1 - - [25/Jul/2024 10:23:22] \"GET /lib/webmushra/spatial/objects/LocalizationObject.js HTTP/1.1\" 200 -\n",
            "127.0.0.1 - - [25/Jul/2024 10:23:22] \"GET /lib/external/jquery.mobile/plugins/jQuery-Mobile-Icon-Pack/original/jqm-icon-pack-2.0-original.css HTTP/1.1\" 200 -\n",
            "127.0.0.1 - - [25/Jul/2024 10:23:22] \"GET /lib/external/three.js/three.js HTTP/1.1\" 200 -\n",
            "127.0.0.1 - - [25/Jul/2024 10:23:22] \"GET /lib/external/three.js/three-tube/threejs-tube.js HTTP/1.1\" 200 -\n",
            "127.0.0.1 - - [25/Jul/2024 10:23:22] \"GET /lib/external/three.js/loaders/ColladaLoader.js HTTP/1.1\" 200 -\n",
            "127.0.0.1 - - [25/Jul/2024 10:23:22] \"GET /lib/external/jquery.mobile/jquery.mobile-1.4.4.js HTTP/1.1\" 200 -\n",
            "127.0.0.1 - - [25/Jul/2024 10:23:22] \"GET /lib/external/wmSlider/slider.min.js HTTP/1.1\" 200 -\n",
            "127.0.0.1 - - [25/Jul/2024 10:23:22] \"GET /lib/external/jquery.mobile/plugins/jQuery-Mobile-Progress-Bar-with-Percentage/src/js/tolito-1.0.1.js HTTP/1.1\" 200 -\n",
            "127.0.0.1 - - [25/Jul/2024 10:23:22] \"GET /lib/external/jquery/jquery-2.1.1.min.js HTTP/1.1\" 200 -\n",
            "127.0.0.1 - - [25/Jul/2024 10:23:22] \"GET /lib/webmushra/business/PageManager.js HTTP/1.1\" 200 -\n",
            "127.0.0.1 - - [25/Jul/2024 10:23:22] \"GET /lib/webmushra/audio/MushraAudioControl.js HTTP/1.1\" 200 -\n",
            "127.0.0.1 - - [25/Jul/2024 10:23:22] \"GET /lib/webmushra/misc/WaveformVisualizer.js HTTP/1.1\" 200 -\n",
            "127.0.0.1 - - [25/Jul/2024 10:23:22] \"GET /lib/webmushra/datamodel/LikertMultiStimulusRating.js HTTP/1.1\" 200 -\n",
            "127.0.0.1 - - [25/Jul/2024 10:23:22] \"GET /lib/webmushra/misc/MushraValidator.js HTTP/1.1\" 200 -\n",
            "127.0.0.1 - - [25/Jul/2024 10:23:22] \"GET /lib/webmushra/pages/LikertSingleStimulusPage.js HTTP/1.1\" 200 -\n",
            "127.0.0.1 - - [25/Jul/2024 10:23:22] \"GET /lib/webmushra/misc/LikertScale.js HTTP/1.1\" 200 -\n",
            "127.0.0.1 - - [25/Jul/2024 10:23:22] \"GET /lib/webmushra/business/ErrorHandler.js HTTP/1.1\" 200 -\n",
            "127.0.0.1 - - [25/Jul/2024 10:23:22] \"GET /lib/external/uuidv4/uuidv4.min.js HTTP/1.1\" 200 -\n",
            "127.0.0.1 - - [25/Jul/2024 10:23:22] \"GET /lib/webmushra/nls/nls.js HTTP/1.1\" 200 -\n",
            "127.0.0.1 - - [25/Jul/2024 10:23:22] \"GET /lib/webmushra/datamodel/Stimulus.js HTTP/1.1\" 200 -\n",
            "127.0.0.1 - - [25/Jul/2024 10:23:22] \"GET /lib/webmushra/audio/GenericAudioControl.js HTTP/1.1\" 200 -\n",
            "127.0.0.1 - - [25/Jul/2024 10:23:22] \"GET /design/images/alabs_new.png HTTP/1.1\" 200 -\n",
            "127.0.0.1 - - [25/Jul/2024 10:23:22] \"GET /lib/webmushra/pages/GenericPage.js HTTP/1.1\" 200 -\n",
            "127.0.0.1 - - [25/Jul/2024 10:23:22] \"GET /lib/webmushra/misc/Shuffle.js HTTP/1.1\" 200 -\n",
            "127.0.0.1 - - [25/Jul/2024 10:23:22] \"GET /lib/webmushra/spatial/objects/LEVObject.js HTTP/1.1\" 200 -\n",
            "127.0.0.1 - - [25/Jul/2024 10:23:22] \"GET /lib/webmushra/pages/LikertSingleStimulusPageManager.js HTTP/1.1\" 200 -\n",
            "127.0.0.1 - - [25/Jul/2024 10:23:22] \"GET /lib/webmushra/pages/FinishPage.js HTTP/1.1\" 200 -\n",
            "127.0.0.1 - - [25/Jul/2024 10:23:22] \"GET /lib/webmushra/pages/SpatialPage.js HTTP/1.1\" 200 -\n",
            "127.0.0.1 - - [25/Jul/2024 10:23:22] \"GET /lib/webmushra/pages/PairedComparisonPageManager.js HTTP/1.1\" 200 -\n",
            "127.0.0.1 - - [25/Jul/2024 10:23:22] \"GET /lib/webmushra/datamodel/LikertSingleStimulusRating.js HTTP/1.1\" 200 -\n",
            "127.0.0.1 - - [25/Jul/2024 10:23:22] \"GET /lib/external/yaml/yaml.min.js HTTP/1.1\" 200 -\n",
            "127.0.0.1 - - [25/Jul/2024 10:23:22] \"GET /design/images/iis.svg HTTP/1.1\" 200 -\n",
            "127.0.0.1 - - [25/Jul/2024 10:23:22] \"GET /lib/webmushra/control/InputController.js HTTP/1.1\" 200 -\n",
            "127.0.0.1 - - [25/Jul/2024 10:23:22] \"GET /lib/webmushra/spatial/objects/ASWObject.js HTTP/1.1\" 200 -\n",
            "127.0.0.1 - - [25/Jul/2024 10:23:22] \"GET /lib/webmushra/control/BS1116AudioControlInputController.js HTTP/1.1\" 200 -\n",
            "127.0.0.1 - - [25/Jul/2024 10:23:22] \"GET /lib/webmushra/control/MushraAudioControlInputController.js HTTP/1.1\" 200 -\n",
            "127.0.0.1 - - [25/Jul/2024 10:23:22] \"GET /lib/webmushra/pages/PairedComparisonPage.js HTTP/1.1\" 200 -\n",
            "127.0.0.1 - - [25/Jul/2024 10:23:22] \"GET /lib/webmushra/misc/Localizer.js HTTP/1.1\" 200 -\n",
            "127.0.0.1 - - [25/Jul/2024 10:23:22] \"GET /lib/webmushra/misc/FilePlayer.js HTTP/1.1\" 200 -\n",
            "127.0.0.1 - - [25/Jul/2024 10:23:22] \"GET /lib/webmushra/pages/BS1116Page.js HTTP/1.1\" 200 -\n",
            "127.0.0.1 - - [25/Jul/2024 10:23:22] \"GET /lib/webmushra/business/DataSender.js HTTP/1.1\" 200 -\n",
            "127.0.0.1 - - [25/Jul/2024 10:23:22] \"GET /lib/webmushra/datamodel/Session.js HTTP/1.1\" 200 -\n",
            "127.0.0.1 - - [25/Jul/2024 10:23:22] \"GET /lib/webmushra/datamodel/SpatialLocalizationRating.js HTTP/1.1\" 200 -\n",
            "127.0.0.1 - - [25/Jul/2024 10:23:22] \"GET /lib/webmushra/pages/MushraPage.js HTTP/1.1\" 200 -\n",
            "127.0.0.1 - - [25/Jul/2024 10:23:22] \"GET /lib/webmushra/spatial/Scene.js HTTP/1.1\" 200 -\n",
            "127.0.0.1 - - [25/Jul/2024 10:23:22] \"GET /design/style.css HTTP/1.1\" 200 -\n",
            "127.0.0.1 - - [25/Jul/2024 10:23:22] \"GET /lib/webmushra/datamodel/SpatialLEVRating.js HTTP/1.1\" 200 -\n",
            "127.0.0.1 - - [25/Jul/2024 10:23:22] \"GET /lib/webmushra/audio/AudioFileLoader.js HTTP/1.1\" 200 -\n",
            "127.0.0.1 - - [25/Jul/2024 10:23:22] \"GET /lib/webmushra/business/PageTemplateRenderer.js HTTP/1.1\" 200 -\n",
            "127.0.0.1 - - [25/Jul/2024 10:23:22] \"GET /lib/webmushra/datamodel/Trial.js HTTP/1.1\" 200 -\n",
            "127.0.0.1 - - [25/Jul/2024 10:23:22] \"GET /lib/webmushra/datamodel/BS1116Rating.js HTTP/1.1\" 200 -\n",
            "127.0.0.1 - - [25/Jul/2024 10:23:22] \"GET /lib/webmushra/control/FilePlayerController.js HTTP/1.1\" 200 -\n",
            "127.0.0.1 - - [25/Jul/2024 10:23:22] \"GET /lib/webmushra/pages/ConsentPage.js HTTP/1.1\" 200 -\n",
            "127.0.0.1 - - [25/Jul/2024 10:23:22] \"GET /lib/webmushra/spatial/Camera.js HTTP/1.1\" 200 -\n",
            "127.0.0.1 - - [25/Jul/2024 10:23:22] \"GET /lib/webmushra/datamodel/MUSHRARating.js HTTP/1.1\" 200 -\n",
            "127.0.0.1 - - [25/Jul/2024 10:23:22] \"GET /lib/webmushra/pages/VolumePage.js HTTP/1.1\" 200 -\n",
            "127.0.0.1 - - [25/Jul/2024 10:23:22] \"GET /lib/webmushra/pages/BS1116PageManager.js HTTP/1.1\" 200 -\n",
            "127.0.0.1 - - [25/Jul/2024 10:23:22] \"GET /lib/webmushra/datamodel/SpatialHWDRating.js HTTP/1.1\" 200 -\n",
            "127.0.0.1 - - [25/Jul/2024 10:23:22] \"GET /lib/webmushra/datamodel/SpatialASWRating.js HTTP/1.1\" 200 -\n",
            "127.0.0.1 - - [25/Jul/2024 10:23:22] \"GET /lib/webmushra/datamodel/PairedComparisonChoice.js HTTP/1.1\" 200 -\n",
            "127.0.0.1 - - [25/Jul/2024 10:23:22] \"GET /lib/webmushra/pages/LikertMultiStimulusPage.js HTTP/1.1\" 200 -\n",
            "127.0.0.1 - - [25/Jul/2024 10:23:22] \"GET /design/images/techfak.svg HTTP/1.1\" 200 -\n",
            "127.0.0.1 - - [25/Jul/2024 10:23:22] \"GET /startup.js HTTP/1.1\" 200 -\n",
            "127.0.0.1 - - [25/Jul/2024 10:23:23] \"GET /configs/myNewTest.yaml HTTP/1.1\" 200 -\n",
            "127.0.0.1 - - [25/Jul/2024 10:23:23] \"GET /lib/external/jquery.mobile/plugins/jQuery-Mobile-Icon-Pack/original/images/ajax-loader.gif HTTP/1.1\" 200 -\n",
            "127.0.0.1 - - [25/Jul/2024 10:23:23] \"GET /configs/resources/audio/1_0_0_0_0_0_0_1.wav HTTP/1.1\" 200 -\n",
            "127.0.0.1 - - [25/Jul/2024 10:23:23] \"GET /configs/resources/audio/1_0_1_1_0_1_1_1.wav HTTP/1.1\" 200 -\n",
            "127.0.0.1 - - [25/Jul/2024 10:23:23] \"GET /configs/resources/audio/0_0_1_0_0_1_1_0.wav HTTP/1.1\" 200 -\n",
            "127.0.0.1 - - [25/Jul/2024 10:23:23] \"GET /configs/resources/audio/0_0_1_1_1_0_0_0.wav HTTP/1.1\" 200 -\n",
            "[1]\n",
            "127.0.0.1 - - [25/Jul/2024 10:24:08] \"POST /service/write.php HTTP/1.1\" 200 -\n"
          ]
        }
      ]
    },
    {
      "cell_type": "code",
      "source": [
        "# Kill ngrok tunnel when it's done.\n",
        "ngrok.kill()"
      ],
      "metadata": {
        "id": "rXB4m3xhTv4I"
      },
      "execution_count": null,
      "outputs": []
    },
    {
      "cell_type": "markdown",
      "source": [
        "## Configuring a webMUSHRA Listening Test"
      ],
      "metadata": {
        "id": "IJluFKyACQt7"
      }
    },
    {
      "cell_type": "code",
      "source": [
        "# @title\n",
        "%%html\n",
        "<iframe width=\"560\" height=\"315\" src=\"https://www.youtube.com/embed/T7sRhb6iw3Y?si=Scjx-R3G36W1oqtt\" title=\"YouTube video player\" frameborder=\"0\" allow=\"accelerometer; autoplay; clipboard-write; encrypted-media; gyroscope; picture-in-picture; web-share\" referrerpolicy=\"strict-origin-when-cross-origin\" allowfullscreen></iframe>"
      ],
      "metadata": {
        "cellView": "form",
        "id": "JfEh3y2HttTm",
        "outputId": "9b65ddfe-c5c8-49c8-8e7e-a544a814c071",
        "colab": {
          "base_uri": "https://localhost:8080/",
          "height": 336
        }
      },
      "execution_count": null,
      "outputs": [
        {
          "output_type": "display_data",
          "data": {
            "text/plain": [
              "<IPython.core.display.HTML object>"
            ],
            "text/html": [
              "<iframe width=\"560\" height=\"315\" src=\"https://www.youtube.com/embed/T7sRhb6iw3Y?si=Scjx-R3G36W1oqtt\" title=\"YouTube video player\" frameborder=\"0\" allow=\"accelerometer; autoplay; clipboard-write; encrypted-media; gyroscope; picture-in-picture; web-share\" referrerpolicy=\"strict-origin-when-cross-origin\" allowfullscreen></iframe>\n"
            ]
          },
          "metadata": {}
        }
      ]
    },
    {
      "cell_type": "markdown",
      "source": [
        "### Get your audio files into 'webmushra/configs/resources/audio/'"
      ],
      "metadata": {
        "id": "Kn8qGLobCWDH"
      }
    },
    {
      "cell_type": "code",
      "source": [
        "# Getting some wavefiles\n",
        "import torchaudio\n",
        "yesno_data = torchaudio.datasets.YESNO('.', download=True)\n"
      ],
      "metadata": {
        "id": "c7TjhjcoVxNe"
      },
      "execution_count": null,
      "outputs": []
    },
    {
      "cell_type": "code",
      "source": [
        "# Move some audio files to the appropriate folder\n",
        "import pathlib\n",
        "import shutil\n",
        "files_list = list(pathlib.Path('/content/waves_yesno/').glob('*.wav'))\n",
        "for file in files_list[:4]:\n",
        "  shutil.copy(file, pathlib.Path('/content/webmushra/configs/resources/audio/') / file.name)\n"
      ],
      "metadata": {
        "id": "SWHopblhDRLP"
      },
      "execution_count": null,
      "outputs": []
    },
    {
      "cell_type": "markdown",
      "source": [
        "## Create your Test Configuration File"
      ],
      "metadata": {
        "id": "ffpelagHMvxc"
      }
    },
    {
      "cell_type": "markdown",
      "source": [
        "## Read results as Pandas DataFrame"
      ],
      "metadata": {
        "id": "8M6lBnKIMPpu"
      }
    },
    {
      "cell_type": "code",
      "source": [
        "# @title\n",
        "%%html\n",
        "<iframe width=\"560\" height=\"315\" src=\"https://www.youtube.com/embed/9_ZBWYOTG9o?si=tYCFwp_lRW4mz43c\" title=\"YouTube video player\" frameborder=\"0\" allow=\"accelerometer; autoplay; clipboard-write; encrypted-media; gyroscope; picture-in-picture; web-share\" referrerpolicy=\"strict-origin-when-cross-origin\" allowfullscreen></iframe>\n"
      ],
      "metadata": {
        "cellView": "form",
        "id": "FxXkTKmOF34L",
        "outputId": "e863e192-a62a-44c4-c7da-eb873abf7ac4",
        "colab": {
          "base_uri": "https://localhost:8080/",
          "height": 336
        }
      },
      "execution_count": 1,
      "outputs": [
        {
          "output_type": "display_data",
          "data": {
            "text/plain": [
              "<IPython.core.display.HTML object>"
            ],
            "text/html": [
              "<iframe width=\"560\" height=\"315\" src=\"https://www.youtube.com/embed/9_ZBWYOTG9o?si=tYCFwp_lRW4mz43c\" title=\"YouTube video player\" frameborder=\"0\" allow=\"accelerometer; autoplay; clipboard-write; encrypted-media; gyroscope; picture-in-picture; web-share\" referrerpolicy=\"strict-origin-when-cross-origin\" allowfullscreen></iframe>\n"
            ]
          },
          "metadata": {}
        }
      ]
    },
    {
      "cell_type": "code",
      "source": [
        "from pymushra.pymushra import collection_to_df"
      ],
      "metadata": {
        "id": "eFdNki1HI7Hn"
      },
      "execution_count": null,
      "outputs": []
    },
    {
      "cell_type": "code",
      "source": [
        "from tinydb import TinyDB\n",
        "db = TinyDB(\"/content/db/webmushra.json\")\n",
        "print(db.tables())\n",
        "df = collection_to_df(db.table(\"mushra_withloop_5\"))\n",
        "df.head()"
      ],
      "metadata": {
        "colab": {
          "base_uri": "https://localhost:8080/",
          "height": 535
        },
        "id": "-KMXVTNrJOgu",
        "outputId": "55141c62-dcbe-407b-95fb-d7f1fb3b9332"
      },
      "execution_count": null,
      "outputs": [
        {
          "output_type": "stream",
          "name": "stdout",
          "text": [
            "{'mushra_withloop_5', 'mushra_noloop', 'mushra_nowav'}\n"
          ]
        },
        {
          "output_type": "execute_result",
          "data": {
            "text/plain": [
              "               wm                             \\\n",
              "               id                       date   \n",
              "0  trial_myMushra 2024-07-25 10:24:08.925649   \n",
              "1  trial_myMushra 2024-07-25 10:24:08.925649   \n",
              "2  trial_myMushra 2024-07-25 10:24:08.925649   \n",
              "3  trial_myMushra 2024-07-25 10:24:08.925649   \n",
              "4  trial_myMushra 2024-07-25 10:24:08.925649   \n",
              "\n",
              "                           questionaire responses        \\\n",
              "                                   uuid   comment score   \n",
              "0  47d39339-2aea-4c5b-96b5-bb2ff4bb796b      None    69   \n",
              "1  47d39339-2aea-4c5b-96b5-bb2ff4bb796b      None   100   \n",
              "2  47d39339-2aea-4c5b-96b5-bb2ff4bb796b      None   100   \n",
              "3  47d39339-2aea-4c5b-96b5-bb2ff4bb796b      None    59   \n",
              "4  47d39339-2aea-4c5b-96b5-bb2ff4bb796b      None   100   \n",
              "\n",
              "                       wm                    responses      wm  responses  \n",
              "                   config             testId      time    type   stimulus  \n",
              "0  configs/myNewTest.yaml  mushra_withloop_5     41015  mushra         C2  \n",
              "1  configs/myNewTest.yaml  mushra_withloop_5     41015  mushra  reference  \n",
              "2  configs/myNewTest.yaml  mushra_withloop_5     41015  mushra   anchor70  \n",
              "3  configs/myNewTest.yaml  mushra_withloop_5     41015  mushra         C1  \n",
              "4  configs/myNewTest.yaml  mushra_withloop_5     41015  mushra         C3  "
            ],
            "text/html": [
              "\n",
              "  <div id=\"df-14a7fe01-c7b4-4425-b051-9b59eebf7ce1\" class=\"colab-df-container\">\n",
              "    <div>\n",
              "<style scoped>\n",
              "    .dataframe tbody tr th:only-of-type {\n",
              "        vertical-align: middle;\n",
              "    }\n",
              "\n",
              "    .dataframe tbody tr th {\n",
              "        vertical-align: top;\n",
              "    }\n",
              "\n",
              "    .dataframe thead tr th {\n",
              "        text-align: left;\n",
              "    }\n",
              "</style>\n",
              "<table border=\"1\" class=\"dataframe\">\n",
              "  <thead>\n",
              "    <tr>\n",
              "      <th></th>\n",
              "      <th colspan=\"2\" halign=\"left\">wm</th>\n",
              "      <th>questionaire</th>\n",
              "      <th colspan=\"2\" halign=\"left\">responses</th>\n",
              "      <th colspan=\"2\" halign=\"left\">wm</th>\n",
              "      <th>responses</th>\n",
              "      <th>wm</th>\n",
              "      <th>responses</th>\n",
              "    </tr>\n",
              "    <tr>\n",
              "      <th></th>\n",
              "      <th>id</th>\n",
              "      <th>date</th>\n",
              "      <th>uuid</th>\n",
              "      <th>comment</th>\n",
              "      <th>score</th>\n",
              "      <th>config</th>\n",
              "      <th>testId</th>\n",
              "      <th>time</th>\n",
              "      <th>type</th>\n",
              "      <th>stimulus</th>\n",
              "    </tr>\n",
              "  </thead>\n",
              "  <tbody>\n",
              "    <tr>\n",
              "      <th>0</th>\n",
              "      <td>trial_myMushra</td>\n",
              "      <td>2024-07-25 10:24:08.925649</td>\n",
              "      <td>47d39339-2aea-4c5b-96b5-bb2ff4bb796b</td>\n",
              "      <td>None</td>\n",
              "      <td>69</td>\n",
              "      <td>configs/myNewTest.yaml</td>\n",
              "      <td>mushra_withloop_5</td>\n",
              "      <td>41015</td>\n",
              "      <td>mushra</td>\n",
              "      <td>C2</td>\n",
              "    </tr>\n",
              "    <tr>\n",
              "      <th>1</th>\n",
              "      <td>trial_myMushra</td>\n",
              "      <td>2024-07-25 10:24:08.925649</td>\n",
              "      <td>47d39339-2aea-4c5b-96b5-bb2ff4bb796b</td>\n",
              "      <td>None</td>\n",
              "      <td>100</td>\n",
              "      <td>configs/myNewTest.yaml</td>\n",
              "      <td>mushra_withloop_5</td>\n",
              "      <td>41015</td>\n",
              "      <td>mushra</td>\n",
              "      <td>reference</td>\n",
              "    </tr>\n",
              "    <tr>\n",
              "      <th>2</th>\n",
              "      <td>trial_myMushra</td>\n",
              "      <td>2024-07-25 10:24:08.925649</td>\n",
              "      <td>47d39339-2aea-4c5b-96b5-bb2ff4bb796b</td>\n",
              "      <td>None</td>\n",
              "      <td>100</td>\n",
              "      <td>configs/myNewTest.yaml</td>\n",
              "      <td>mushra_withloop_5</td>\n",
              "      <td>41015</td>\n",
              "      <td>mushra</td>\n",
              "      <td>anchor70</td>\n",
              "    </tr>\n",
              "    <tr>\n",
              "      <th>3</th>\n",
              "      <td>trial_myMushra</td>\n",
              "      <td>2024-07-25 10:24:08.925649</td>\n",
              "      <td>47d39339-2aea-4c5b-96b5-bb2ff4bb796b</td>\n",
              "      <td>None</td>\n",
              "      <td>59</td>\n",
              "      <td>configs/myNewTest.yaml</td>\n",
              "      <td>mushra_withloop_5</td>\n",
              "      <td>41015</td>\n",
              "      <td>mushra</td>\n",
              "      <td>C1</td>\n",
              "    </tr>\n",
              "    <tr>\n",
              "      <th>4</th>\n",
              "      <td>trial_myMushra</td>\n",
              "      <td>2024-07-25 10:24:08.925649</td>\n",
              "      <td>47d39339-2aea-4c5b-96b5-bb2ff4bb796b</td>\n",
              "      <td>None</td>\n",
              "      <td>100</td>\n",
              "      <td>configs/myNewTest.yaml</td>\n",
              "      <td>mushra_withloop_5</td>\n",
              "      <td>41015</td>\n",
              "      <td>mushra</td>\n",
              "      <td>C3</td>\n",
              "    </tr>\n",
              "  </tbody>\n",
              "</table>\n",
              "</div>\n",
              "    <div class=\"colab-df-buttons\">\n",
              "\n",
              "  <div class=\"colab-df-container\">\n",
              "    <button class=\"colab-df-convert\" onclick=\"convertToInteractive('df-14a7fe01-c7b4-4425-b051-9b59eebf7ce1')\"\n",
              "            title=\"Convert this dataframe to an interactive table.\"\n",
              "            style=\"display:none;\">\n",
              "\n",
              "  <svg xmlns=\"http://www.w3.org/2000/svg\" height=\"24px\" viewBox=\"0 -960 960 960\">\n",
              "    <path d=\"M120-120v-720h720v720H120Zm60-500h600v-160H180v160Zm220 220h160v-160H400v160Zm0 220h160v-160H400v160ZM180-400h160v-160H180v160Zm440 0h160v-160H620v160ZM180-180h160v-160H180v160Zm440 0h160v-160H620v160Z\"/>\n",
              "  </svg>\n",
              "    </button>\n",
              "\n",
              "  <style>\n",
              "    .colab-df-container {\n",
              "      display:flex;\n",
              "      gap: 12px;\n",
              "    }\n",
              "\n",
              "    .colab-df-convert {\n",
              "      background-color: #E8F0FE;\n",
              "      border: none;\n",
              "      border-radius: 50%;\n",
              "      cursor: pointer;\n",
              "      display: none;\n",
              "      fill: #1967D2;\n",
              "      height: 32px;\n",
              "      padding: 0 0 0 0;\n",
              "      width: 32px;\n",
              "    }\n",
              "\n",
              "    .colab-df-convert:hover {\n",
              "      background-color: #E2EBFA;\n",
              "      box-shadow: 0px 1px 2px rgba(60, 64, 67, 0.3), 0px 1px 3px 1px rgba(60, 64, 67, 0.15);\n",
              "      fill: #174EA6;\n",
              "    }\n",
              "\n",
              "    .colab-df-buttons div {\n",
              "      margin-bottom: 4px;\n",
              "    }\n",
              "\n",
              "    [theme=dark] .colab-df-convert {\n",
              "      background-color: #3B4455;\n",
              "      fill: #D2E3FC;\n",
              "    }\n",
              "\n",
              "    [theme=dark] .colab-df-convert:hover {\n",
              "      background-color: #434B5C;\n",
              "      box-shadow: 0px 1px 3px 1px rgba(0, 0, 0, 0.15);\n",
              "      filter: drop-shadow(0px 1px 2px rgba(0, 0, 0, 0.3));\n",
              "      fill: #FFFFFF;\n",
              "    }\n",
              "  </style>\n",
              "\n",
              "    <script>\n",
              "      const buttonEl =\n",
              "        document.querySelector('#df-14a7fe01-c7b4-4425-b051-9b59eebf7ce1 button.colab-df-convert');\n",
              "      buttonEl.style.display =\n",
              "        google.colab.kernel.accessAllowed ? 'block' : 'none';\n",
              "\n",
              "      async function convertToInteractive(key) {\n",
              "        const element = document.querySelector('#df-14a7fe01-c7b4-4425-b051-9b59eebf7ce1');\n",
              "        const dataTable =\n",
              "          await google.colab.kernel.invokeFunction('convertToInteractive',\n",
              "                                                    [key], {});\n",
              "        if (!dataTable) return;\n",
              "\n",
              "        const docLinkHtml = 'Like what you see? Visit the ' +\n",
              "          '<a target=\"_blank\" href=https://colab.research.google.com/notebooks/data_table.ipynb>data table notebook</a>'\n",
              "          + ' to learn more about interactive tables.';\n",
              "        element.innerHTML = '';\n",
              "        dataTable['output_type'] = 'display_data';\n",
              "        await google.colab.output.renderOutput(dataTable, element);\n",
              "        const docLink = document.createElement('div');\n",
              "        docLink.innerHTML = docLinkHtml;\n",
              "        element.appendChild(docLink);\n",
              "      }\n",
              "    </script>\n",
              "  </div>\n",
              "\n",
              "\n",
              "<div id=\"df-27a363ac-69e1-4ec9-beb3-1688998f8ad6\">\n",
              "  <button class=\"colab-df-quickchart\" onclick=\"quickchart('df-27a363ac-69e1-4ec9-beb3-1688998f8ad6')\"\n",
              "            title=\"Suggest charts\"\n",
              "            style=\"display:none;\">\n",
              "\n",
              "<svg xmlns=\"http://www.w3.org/2000/svg\" height=\"24px\"viewBox=\"0 0 24 24\"\n",
              "     width=\"24px\">\n",
              "    <g>\n",
              "        <path d=\"M19 3H5c-1.1 0-2 .9-2 2v14c0 1.1.9 2 2 2h14c1.1 0 2-.9 2-2V5c0-1.1-.9-2-2-2zM9 17H7v-7h2v7zm4 0h-2V7h2v10zm4 0h-2v-4h2v4z\"/>\n",
              "    </g>\n",
              "</svg>\n",
              "  </button>\n",
              "\n",
              "<style>\n",
              "  .colab-df-quickchart {\n",
              "      --bg-color: #E8F0FE;\n",
              "      --fill-color: #1967D2;\n",
              "      --hover-bg-color: #E2EBFA;\n",
              "      --hover-fill-color: #174EA6;\n",
              "      --disabled-fill-color: #AAA;\n",
              "      --disabled-bg-color: #DDD;\n",
              "  }\n",
              "\n",
              "  [theme=dark] .colab-df-quickchart {\n",
              "      --bg-color: #3B4455;\n",
              "      --fill-color: #D2E3FC;\n",
              "      --hover-bg-color: #434B5C;\n",
              "      --hover-fill-color: #FFFFFF;\n",
              "      --disabled-bg-color: #3B4455;\n",
              "      --disabled-fill-color: #666;\n",
              "  }\n",
              "\n",
              "  .colab-df-quickchart {\n",
              "    background-color: var(--bg-color);\n",
              "    border: none;\n",
              "    border-radius: 50%;\n",
              "    cursor: pointer;\n",
              "    display: none;\n",
              "    fill: var(--fill-color);\n",
              "    height: 32px;\n",
              "    padding: 0;\n",
              "    width: 32px;\n",
              "  }\n",
              "\n",
              "  .colab-df-quickchart:hover {\n",
              "    background-color: var(--hover-bg-color);\n",
              "    box-shadow: 0 1px 2px rgba(60, 64, 67, 0.3), 0 1px 3px 1px rgba(60, 64, 67, 0.15);\n",
              "    fill: var(--button-hover-fill-color);\n",
              "  }\n",
              "\n",
              "  .colab-df-quickchart-complete:disabled,\n",
              "  .colab-df-quickchart-complete:disabled:hover {\n",
              "    background-color: var(--disabled-bg-color);\n",
              "    fill: var(--disabled-fill-color);\n",
              "    box-shadow: none;\n",
              "  }\n",
              "\n",
              "  .colab-df-spinner {\n",
              "    border: 2px solid var(--fill-color);\n",
              "    border-color: transparent;\n",
              "    border-bottom-color: var(--fill-color);\n",
              "    animation:\n",
              "      spin 1s steps(1) infinite;\n",
              "  }\n",
              "\n",
              "  @keyframes spin {\n",
              "    0% {\n",
              "      border-color: transparent;\n",
              "      border-bottom-color: var(--fill-color);\n",
              "      border-left-color: var(--fill-color);\n",
              "    }\n",
              "    20% {\n",
              "      border-color: transparent;\n",
              "      border-left-color: var(--fill-color);\n",
              "      border-top-color: var(--fill-color);\n",
              "    }\n",
              "    30% {\n",
              "      border-color: transparent;\n",
              "      border-left-color: var(--fill-color);\n",
              "      border-top-color: var(--fill-color);\n",
              "      border-right-color: var(--fill-color);\n",
              "    }\n",
              "    40% {\n",
              "      border-color: transparent;\n",
              "      border-right-color: var(--fill-color);\n",
              "      border-top-color: var(--fill-color);\n",
              "    }\n",
              "    60% {\n",
              "      border-color: transparent;\n",
              "      border-right-color: var(--fill-color);\n",
              "    }\n",
              "    80% {\n",
              "      border-color: transparent;\n",
              "      border-right-color: var(--fill-color);\n",
              "      border-bottom-color: var(--fill-color);\n",
              "    }\n",
              "    90% {\n",
              "      border-color: transparent;\n",
              "      border-bottom-color: var(--fill-color);\n",
              "    }\n",
              "  }\n",
              "</style>\n",
              "\n",
              "  <script>\n",
              "    async function quickchart(key) {\n",
              "      const quickchartButtonEl =\n",
              "        document.querySelector('#' + key + ' button');\n",
              "      quickchartButtonEl.disabled = true;  // To prevent multiple clicks.\n",
              "      quickchartButtonEl.classList.add('colab-df-spinner');\n",
              "      try {\n",
              "        const charts = await google.colab.kernel.invokeFunction(\n",
              "            'suggestCharts', [key], {});\n",
              "      } catch (error) {\n",
              "        console.error('Error during call to suggestCharts:', error);\n",
              "      }\n",
              "      quickchartButtonEl.classList.remove('colab-df-spinner');\n",
              "      quickchartButtonEl.classList.add('colab-df-quickchart-complete');\n",
              "    }\n",
              "    (() => {\n",
              "      let quickchartButtonEl =\n",
              "        document.querySelector('#df-27a363ac-69e1-4ec9-beb3-1688998f8ad6 button');\n",
              "      quickchartButtonEl.style.display =\n",
              "        google.colab.kernel.accessAllowed ? 'block' : 'none';\n",
              "    })();\n",
              "  </script>\n",
              "</div>\n",
              "\n",
              "    </div>\n",
              "  </div>\n"
            ],
            "application/vnd.google.colaboratory.intrinsic+json": {
              "type": "dataframe",
              "variable_name": "df",
              "repr_error": "Out of range float values are not JSON compliant: nan"
            }
          },
          "metadata": {},
          "execution_count": 71
        }
      ]
    },
    {
      "cell_type": "code",
      "source": [
        "# @title\n",
        "%%html\n",
        "<iframe src=\"https://www.audiolabs-erlangen.de/resources/webMUSHRA\" height=\"400\" width=\"900\" title=\"Iframe Example\"></iframe>"
      ],
      "metadata": {
        "colab": {
          "base_uri": "https://localhost:8080/",
          "height": 445
        },
        "cellView": "form",
        "id": "cw3__05kF8Ex",
        "outputId": "383378b4-a9a7-4c0c-e6b4-55e2a7d04af6"
      },
      "execution_count": null,
      "outputs": [
        {
          "output_type": "display_data",
          "data": {
            "text/plain": [
              "<IPython.core.display.HTML object>"
            ],
            "text/html": [
              "<iframe src=\"https://www.audiolabs-erlangen.de/resources/webMUSHRA\" height=\"400\" width=\"900\" title=\"Iframe Example\"></iframe>\n"
            ]
          },
          "metadata": {}
        }
      ]
    }
  ]
}